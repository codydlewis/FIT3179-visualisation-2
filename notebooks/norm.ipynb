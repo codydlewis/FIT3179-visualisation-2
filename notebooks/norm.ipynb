{
 "cells": [
  {
   "cell_type": "code",
   "execution_count": 2,
   "metadata": {},
   "outputs": [],
   "source": [
    "import pandas as pd"
   ]
  },
  {
   "cell_type": "code",
   "execution_count": 2,
   "metadata": {},
   "outputs": [
    {
     "data": {
      "text/html": [
       "<div>\n",
       "<style scoped>\n",
       "    .dataframe tbody tr th:only-of-type {\n",
       "        vertical-align: middle;\n",
       "    }\n",
       "\n",
       "    .dataframe tbody tr th {\n",
       "        vertical-align: top;\n",
       "    }\n",
       "\n",
       "    .dataframe thead th {\n",
       "        text-align: right;\n",
       "    }\n",
       "</style>\n",
       "<table border=\"1\" class=\"dataframe\">\n",
       "  <thead>\n",
       "    <tr style=\"text-align: right;\">\n",
       "      <th></th>\n",
       "      <th>datetime</th>\n",
       "      <th>day_of_week</th>\n",
       "      <th>lga</th>\n",
       "      <th>latitude</th>\n",
       "      <th>longitude</th>\n",
       "      <th>type</th>\n",
       "      <th>road_class</th>\n",
       "      <th>is_hit_and_run</th>\n",
       "      <th>light_condition</th>\n",
       "      <th>police_attended</th>\n",
       "      <th>...</th>\n",
       "      <th>total_non_injury</th>\n",
       "      <th>total_male</th>\n",
       "      <th>total_female</th>\n",
       "      <th>total_bicyclist</th>\n",
       "      <th>totaL_passenger</th>\n",
       "      <th>total_driver</th>\n",
       "      <th>total_pedestrian</th>\n",
       "      <th>total_pillion</th>\n",
       "      <th>total_motorist</th>\n",
       "      <th>total_unknown</th>\n",
       "    </tr>\n",
       "  </thead>\n",
       "  <tbody>\n",
       "    <tr>\n",
       "      <th>0</th>\n",
       "      <td>2015-07-01 01:37:00</td>\n",
       "      <td>Wednesday</td>\n",
       "      <td>Wyndham</td>\n",
       "      <td>-37.868424</td>\n",
       "      <td>144.733170</td>\n",
       "      <td>Overturned (no collision)</td>\n",
       "      <td>Arterial Other</td>\n",
       "      <td>False</td>\n",
       "      <td>Dark (lights on)</td>\n",
       "      <td>True</td>\n",
       "      <td>...</td>\n",
       "      <td>0</td>\n",
       "      <td>1</td>\n",
       "      <td>0</td>\n",
       "      <td>0</td>\n",
       "      <td>0</td>\n",
       "      <td>0</td>\n",
       "      <td>0</td>\n",
       "      <td>0</td>\n",
       "      <td>1</td>\n",
       "      <td>0</td>\n",
       "    </tr>\n",
       "    <tr>\n",
       "      <th>1</th>\n",
       "      <td>2015-07-01 03:05:00</td>\n",
       "      <td>Wednesday</td>\n",
       "      <td>Monash</td>\n",
       "      <td>-37.893493</td>\n",
       "      <td>145.093413</td>\n",
       "      <td>Vehicle</td>\n",
       "      <td>Arterial Highway</td>\n",
       "      <td>False</td>\n",
       "      <td>Dark (lights on)</td>\n",
       "      <td>True</td>\n",
       "      <td>...</td>\n",
       "      <td>2</td>\n",
       "      <td>2</td>\n",
       "      <td>0</td>\n",
       "      <td>0</td>\n",
       "      <td>1</td>\n",
       "      <td>2</td>\n",
       "      <td>0</td>\n",
       "      <td>0</td>\n",
       "      <td>1</td>\n",
       "      <td>0</td>\n",
       "    </tr>\n",
       "    <tr>\n",
       "      <th>2</th>\n",
       "      <td>2015-07-01 04:10:00</td>\n",
       "      <td>Wednesday</td>\n",
       "      <td>Yarra Ranges</td>\n",
       "      <td>-37.897932</td>\n",
       "      <td>145.357961</td>\n",
       "      <td>Animal</td>\n",
       "      <td>Arterial Other</td>\n",
       "      <td>False</td>\n",
       "      <td>Dark (no lights)</td>\n",
       "      <td>False</td>\n",
       "      <td>...</td>\n",
       "      <td>0</td>\n",
       "      <td>1</td>\n",
       "      <td>0</td>\n",
       "      <td>0</td>\n",
       "      <td>0</td>\n",
       "      <td>0</td>\n",
       "      <td>0</td>\n",
       "      <td>0</td>\n",
       "      <td>1</td>\n",
       "      <td>0</td>\n",
       "    </tr>\n",
       "    <tr>\n",
       "      <th>3</th>\n",
       "      <td>2015-07-01 04:30:00</td>\n",
       "      <td>Wednesday</td>\n",
       "      <td>Geelong</td>\n",
       "      <td>-38.150540</td>\n",
       "      <td>144.581600</td>\n",
       "      <td>Vehicle</td>\n",
       "      <td>NaN</td>\n",
       "      <td>False</td>\n",
       "      <td>Dark (no lights)</td>\n",
       "      <td>True</td>\n",
       "      <td>...</td>\n",
       "      <td>1</td>\n",
       "      <td>1</td>\n",
       "      <td>2</td>\n",
       "      <td>0</td>\n",
       "      <td>0</td>\n",
       "      <td>1</td>\n",
       "      <td>2</td>\n",
       "      <td>0</td>\n",
       "      <td>0</td>\n",
       "      <td>0</td>\n",
       "    </tr>\n",
       "    <tr>\n",
       "      <th>4</th>\n",
       "      <td>2015-07-01 04:30:00</td>\n",
       "      <td>Wednesday</td>\n",
       "      <td>Casey</td>\n",
       "      <td>-37.996330</td>\n",
       "      <td>145.269155</td>\n",
       "      <td>Pedestrian</td>\n",
       "      <td>Freeway</td>\n",
       "      <td>False</td>\n",
       "      <td>Dark (lights on)</td>\n",
       "      <td>True</td>\n",
       "      <td>...</td>\n",
       "      <td>1</td>\n",
       "      <td>2</td>\n",
       "      <td>0</td>\n",
       "      <td>0</td>\n",
       "      <td>0</td>\n",
       "      <td>1</td>\n",
       "      <td>1</td>\n",
       "      <td>0</td>\n",
       "      <td>0</td>\n",
       "      <td>0</td>\n",
       "    </tr>\n",
       "  </tbody>\n",
       "</table>\n",
       "<p>5 rows × 29 columns</p>\n",
       "</div>"
      ],
      "text/plain": [
       "             datetime day_of_week           lga   latitude   longitude  \\\n",
       "0 2015-07-01 01:37:00   Wednesday       Wyndham -37.868424  144.733170   \n",
       "1 2015-07-01 03:05:00   Wednesday        Monash -37.893493  145.093413   \n",
       "2 2015-07-01 04:10:00   Wednesday  Yarra Ranges -37.897932  145.357961   \n",
       "3 2015-07-01 04:30:00   Wednesday       Geelong -38.150540  144.581600   \n",
       "4 2015-07-01 04:30:00   Wednesday         Casey -37.996330  145.269155   \n",
       "\n",
       "                        type        road_class is_hit_and_run  \\\n",
       "0  Overturned (no collision)    Arterial Other          False   \n",
       "1                    Vehicle  Arterial Highway          False   \n",
       "2                     Animal    Arterial Other          False   \n",
       "3                    Vehicle               NaN          False   \n",
       "4                 Pedestrian           Freeway          False   \n",
       "\n",
       "    light_condition police_attended  ... total_non_injury total_male  \\\n",
       "0  Dark (lights on)            True  ...                0          1   \n",
       "1  Dark (lights on)            True  ...                2          2   \n",
       "2  Dark (no lights)           False  ...                0          1   \n",
       "3  Dark (no lights)            True  ...                1          1   \n",
       "4  Dark (lights on)            True  ...                1          2   \n",
       "\n",
       "   total_female  total_bicyclist totaL_passenger  total_driver  \\\n",
       "0             0                0               0             0   \n",
       "1             0                0               1             2   \n",
       "2             0                0               0             0   \n",
       "3             2                0               0             1   \n",
       "4             0                0               0             1   \n",
       "\n",
       "   total_pedestrian  total_pillion  total_motorist  total_unknown  \n",
       "0                 0              0               1              0  \n",
       "1                 0              0               1              0  \n",
       "2                 0              0               1              0  \n",
       "3                 2              0               0              0  \n",
       "4                 1              0               0              0  \n",
       "\n",
       "[5 rows x 29 columns]"
      ]
     },
     "execution_count": 2,
     "metadata": {},
     "output_type": "execute_result"
    }
   ],
   "source": [
    "data = pd.read_csv(\"../data/derived/CarCrashData-Cleaned.csv\")\n",
    "data.datetime = pd.to_datetime(data.datetime, format=\"%Y/%m/%d %H:%M:%S\")\n",
    "data.head()"
   ]
  },
  {
   "cell_type": "code",
   "execution_count": 20,
   "metadata": {},
   "outputs": [],
   "source": [
    "lga_meta = pd.read_excel(\"../data/2021Census_geog_desc_1st_and_2nd_release.xlsx\", sheet_name=\"2021_ASGS_Non_ABS_Structures\")\n",
    "lga_meta = lga_meta[lga_meta.ASGS_Structure == \"LGA\"]"
   ]
  },
  {
   "cell_type": "code",
   "execution_count": 21,
   "metadata": {},
   "outputs": [],
   "source": [
    "lga_meta = lga_meta[lga_meta.AGSS_Code_2021.astype(str).str.contains(\"^2\", regex=True)]"
   ]
  },
  {
   "cell_type": "code",
   "execution_count": 22,
   "metadata": {},
   "outputs": [],
   "source": [
    "lga_meta.Census_Name_2021 = lga_meta.Census_Name_2021.str.replace(\" (Vic.)\", \"\", regex=False)"
   ]
  },
  {
   "cell_type": "code",
   "execution_count": 33,
   "metadata": {},
   "outputs": [],
   "source": [
    "pop_data = pd.read_csv(\"../data/population.csv\")"
   ]
  },
  {
   "cell_type": "code",
   "execution_count": 34,
   "metadata": {},
   "outputs": [],
   "source": [
    "pop_data = pop_data[[\"LGA_CODE_2021\", \"Tot_P_P\"]]\n",
    "pop_data.columns = [\"lga_code\", \"population\"]"
   ]
  },
  {
   "cell_type": "code",
   "execution_count": 36,
   "metadata": {},
   "outputs": [],
   "source": [
    "pop_data.merge(lga_meta, left_on=\"lga_code\", right_on=\"Census_Code_2021\").to_csv(\"../data/derived/population.csv\", index=False)"
   ]
  },
  {
   "cell_type": "code",
   "execution_count": null,
   "metadata": {},
   "outputs": [],
   "source": []
  },
  {
   "cell_type": "code",
   "execution_count": null,
   "metadata": {},
   "outputs": [],
   "source": []
  },
  {
   "cell_type": "code",
   "execution_count": null,
   "metadata": {},
   "outputs": [],
   "source": []
  },
  {
   "cell_type": "code",
   "execution_count": 13,
   "metadata": {},
   "outputs": [],
   "source": [
    "data = pd.read_csv(\"../data/derived/CarCrashData-Cleaned.csv\")\n"
   ]
  },
  {
   "cell_type": "code",
   "execution_count": 7,
   "metadata": {},
   "outputs": [],
   "source": [
    "data[data.lga.isin([\"Melbourne\", \"Casey\", \"Geelong\", \"Dandenong\", \"Brimbank\", \"Whittlesea\", \"Monash\", \"Yarra Ranges\", \"Moreland\", \"Darebin\"])].to_csv(\"../data/derived/CarCrashData-Top10.csv\")"
   ]
  },
  {
   "cell_type": "code",
   "execution_count": 12,
   "metadata": {},
   "outputs": [],
   "source": [
    "data[data.speed_zone.isin(['60 km/hr', '70 km/hr', '100 km/hr',\n",
    "       '80 km/hr', '50 km/hr', '110 km/hr', '40 km/hr',\n",
    "       '30 km/hr'])].to_csv(\"../data/derived/CarCrashData-SpeedZones.csv\")"
   ]
  },
  {
   "cell_type": "code",
   "execution_count": 16,
   "metadata": {},
   "outputs": [],
   "source": [
    "data[data.road_geometry.isin(['Not at intersection', 'Cross intersection',\n",
    "       'T intersection', 'Private property', 'Multiple intersection', 'Y intersection'])].to_csv(\"../data/derived/CarCrashData-RoadGeometry.csv\")"
   ]
  },
  {
   "cell_type": "code",
   "execution_count": 15,
   "metadata": {},
   "outputs": [
    {
     "data": {
      "text/plain": [
       "Not at intersection      39817\n",
       "Cross intersection       15911\n",
       "T intersection           15700\n",
       "Multiple intersection     1417\n",
       "Unknown                   1089\n",
       "Private property           962\n",
       "Y intersection             215\n",
       "Dead end                    91\n",
       "Road closure                 3\n",
       "Name: road_geometry, dtype: int64"
      ]
     },
     "execution_count": 15,
     "metadata": {},
     "output_type": "execute_result"
    }
   ],
   "source": [
    "data.road_geometry.value_counts()"
   ]
  },
  {
   "cell_type": "code",
   "execution_count": null,
   "metadata": {},
   "outputs": [],
   "source": []
  }
 ],
 "metadata": {
  "kernelspec": {
   "display_name": "Python 3.9.12 ('base')",
   "language": "python",
   "name": "python3"
  },
  "language_info": {
   "codemirror_mode": {
    "name": "ipython",
    "version": 3
   },
   "file_extension": ".py",
   "mimetype": "text/x-python",
   "name": "python",
   "nbconvert_exporter": "python",
   "pygments_lexer": "ipython3",
   "version": "3.9.12"
  },
  "orig_nbformat": 4,
  "vscode": {
   "interpreter": {
    "hash": "33fb8f05460858bbe3217712f392bc0dba23affd5dba274dc16ee5155b3c41c2"
   }
  }
 },
 "nbformat": 4,
 "nbformat_minor": 2
}
